{
 "cells": [
  {
   "cell_type": "markdown",
   "metadata": {
    "colab_type": "text",
    "id": "ai-Z9oskDhTP"
   },
   "source": [
    "# Classification of genetic mutations based on clinical evidence provided as text description. <a class='tocSkip'>\n",
    "\n",
    "**NOTICE: This is unfinished, active working copy**\n",
    "\n",
    "Main approach will be first using NLP techniques to transform text description into features needed later for a few classifiers. Then choosing best working one."
   ]
  },
  {
   "cell_type": "code",
   "execution_count": 1,
   "metadata": {
    "colab": {
     "base_uri": "https://localhost:8080/",
     "height": 34
    },
    "colab_type": "code",
    "executionInfo": {
     "elapsed": 12361,
     "status": "ok",
     "timestamp": 1538077750974,
     "user": {
      "displayName": "Norbert Oksza Strzelecki",
      "photoUrl": "",
      "userId": "11757868523424655578"
     },
     "user_tz": -120
    },
    "id": "W3wDvQSIDhTR",
    "outputId": "c69777f8-6869-4b13-f349-91cf9bcf83bd"
   },
   "outputs": [
    {
     "name": "stderr",
     "output_type": "stream",
     "text": [
      "Using TensorFlow backend.\n"
     ]
    }
   ],
   "source": [
    "import numpy as np\n",
    "import pandas as pd\n",
    "import matplotlib.pyplot as plt\n",
    "import seaborn as sns; sns.set()\n",
    "\n",
    "# import gensim\n",
    "import nltk\n",
    "\n",
    "from sklearn.feature_extraction.text import CountVectorizer\n",
    "from sklearn.feature_extraction.text import TfidfVectorizer\n",
    "\n",
    "from sklearn.preprocessing import LabelEncoder\n",
    "\n",
    "from sklearn.model_selection import train_test_split\n",
    "from sklearn.model_selection import cross_val_predict\n",
    "from sklearn.model_selection import StratifiedKFold\n",
    "\n",
    "from sklearn.decomposition import TruncatedSVD\n",
    "from sklearn.svm import SVC\n",
    "\n",
    "from sklearn.metrics import accuracy_score, log_loss\n",
    "# from scikitplot.metrics import plot_confusion_matrix\n",
    "\n",
    "from keras.preprocessing.text import Tokenizer\n",
    "from keras.preprocessing.sequence import pad_sequences\n",
    "from keras.utils.np_utils import to_categorical\n",
    "from keras.models import load_model\n",
    "from keras.models import Sequential\n",
    "from keras.layers import Dense, Embedding, LSTM\n",
    "from keras.callbacks import ModelCheckpoint\n",
    "from keras.optimizers import Adam"
   ]
  },
  {
   "cell_type": "markdown",
   "metadata": {
    "colab_type": "text",
    "id": "0Fv8XvKZDhTY"
   },
   "source": [
    "### Loading data <a class='tocSkip'>"
   ]
  },
  {
   "cell_type": "code",
   "execution_count": null,
   "metadata": {
    "colab": {
     "base_uri": "https://localhost:8080/",
     "height": 122
    },
    "colab_type": "code",
    "executionInfo": {
     "elapsed": 32641,
     "status": "ok",
     "timestamp": 1538077783677,
     "user": {
      "displayName": "Norbert Oksza Strzelecki",
      "photoUrl": "",
      "userId": "11757868523424655578"
     },
     "user_tz": -120
    },
    "id": "dMmDPkR4EDtB",
    "outputId": "9686b6e7-44ce-47d7-ed87-d38ccee5de2d"
   },
   "outputs": [],
   "source": [
    "# Computed in Google Colab so GDrive was mounted as data source\n",
    "from google.colab import drive\n",
    "drive.mount('/content/gdrive')"
   ]
  },
  {
   "cell_type": "code",
   "execution_count": 4,
   "metadata": {
    "colab": {
     "base_uri": "https://localhost:8080/",
     "height": 111
    },
    "colab_type": "code",
    "executionInfo": {
     "elapsed": 6548,
     "status": "ok",
     "timestamp": 1538077794425,
     "user": {
      "displayName": "Norbert Oksza Strzelecki",
      "photoUrl": "",
      "userId": "11757868523424655578"
     },
     "user_tz": -120
    },
    "id": "v-vfr24lDhTZ",
    "outputId": "f55d7b2a-e0c3-4c4e-be94-c65fb8393b47"
   },
   "outputs": [
    {
     "data": {
      "text/html": [
       "<div>\n",
       "<style scoped>\n",
       "    .dataframe tbody tr th:only-of-type {\n",
       "        vertical-align: middle;\n",
       "    }\n",
       "\n",
       "    .dataframe tbody tr th {\n",
       "        vertical-align: top;\n",
       "    }\n",
       "\n",
       "    .dataframe thead th {\n",
       "        text-align: right;\n",
       "    }\n",
       "</style>\n",
       "<table border=\"1\" class=\"dataframe\">\n",
       "  <thead>\n",
       "    <tr style=\"text-align: right;\">\n",
       "      <th></th>\n",
       "      <th>ID</th>\n",
       "      <th>Text</th>\n",
       "    </tr>\n",
       "  </thead>\n",
       "  <tbody>\n",
       "    <tr>\n",
       "      <th>0</th>\n",
       "      <td>0</td>\n",
       "      <td>Cyclin-dependent kinases (CDKs) regulate a var...</td>\n",
       "    </tr>\n",
       "    <tr>\n",
       "      <th>1</th>\n",
       "      <td>1</td>\n",
       "      <td>Abstract Background  Non-small cell lung canc...</td>\n",
       "    </tr>\n",
       "  </tbody>\n",
       "</table>\n",
       "</div>"
      ],
      "text/plain": [
       "   ID                                               Text\n",
       "0   0  Cyclin-dependent kinases (CDKs) regulate a var...\n",
       "1   1   Abstract Background  Non-small cell lung canc..."
      ]
     },
     "execution_count": 4,
     "metadata": {
      "tags": []
     },
     "output_type": "execute_result"
    }
   ],
   "source": [
    "train_text = pd.read_csv('gdrive/My Drive/Colab Notebooks/data/training_text', sep='\\|\\|', header=None, skiprows=1, names=['ID','Text'], engine='python')\n",
    "train_text.head(2)"
   ]
  },
  {
   "cell_type": "code",
   "execution_count": 5,
   "metadata": {
    "colab": {
     "base_uri": "https://localhost:8080/",
     "height": 111
    },
    "colab_type": "code",
    "executionInfo": {
     "elapsed": 2525,
     "status": "ok",
     "timestamp": 1538077797007,
     "user": {
      "displayName": "Norbert Oksza Strzelecki",
      "photoUrl": "",
      "userId": "11757868523424655578"
     },
     "user_tz": -120
    },
    "id": "6QuCxOksDhTj",
    "outputId": "5f7332dc-4f05-419f-94e5-acd6bb9dc194"
   },
   "outputs": [
    {
     "data": {
      "text/html": [
       "<div>\n",
       "<style scoped>\n",
       "    .dataframe tbody tr th:only-of-type {\n",
       "        vertical-align: middle;\n",
       "    }\n",
       "\n",
       "    .dataframe tbody tr th {\n",
       "        vertical-align: top;\n",
       "    }\n",
       "\n",
       "    .dataframe thead th {\n",
       "        text-align: right;\n",
       "    }\n",
       "</style>\n",
       "<table border=\"1\" class=\"dataframe\">\n",
       "  <thead>\n",
       "    <tr style=\"text-align: right;\">\n",
       "      <th></th>\n",
       "      <th>ID</th>\n",
       "      <th>Gene</th>\n",
       "      <th>Variation</th>\n",
       "      <th>Class</th>\n",
       "    </tr>\n",
       "  </thead>\n",
       "  <tbody>\n",
       "    <tr>\n",
       "      <th>0</th>\n",
       "      <td>0</td>\n",
       "      <td>FAM58A</td>\n",
       "      <td>Truncating Mutations</td>\n",
       "      <td>1</td>\n",
       "    </tr>\n",
       "    <tr>\n",
       "      <th>1</th>\n",
       "      <td>1</td>\n",
       "      <td>CBL</td>\n",
       "      <td>W802*</td>\n",
       "      <td>2</td>\n",
       "    </tr>\n",
       "  </tbody>\n",
       "</table>\n",
       "</div>"
      ],
      "text/plain": [
       "   ID    Gene             Variation  Class\n",
       "0   0  FAM58A  Truncating Mutations      1\n",
       "1   1     CBL                 W802*      2"
      ]
     },
     "execution_count": 5,
     "metadata": {
      "tags": []
     },
     "output_type": "execute_result"
    }
   ],
   "source": [
    "train_variants = pd.read_csv('gdrive/My Drive/Colab Notebooks/data/training_variants')\n",
    "train_variants.head(2)"
   ]
  },
  {
   "cell_type": "code",
   "execution_count": 6,
   "metadata": {
    "colab": {
     "base_uri": "https://localhost:8080/",
     "height": 111
    },
    "colab_type": "code",
    "executionInfo": {
     "elapsed": 3327,
     "status": "ok",
     "timestamp": 1538077800365,
     "user": {
      "displayName": "Norbert Oksza Strzelecki",
      "photoUrl": "",
      "userId": "11757868523424655578"
     },
     "user_tz": -120
    },
    "id": "AJUi5KLDDhTr",
    "outputId": "03f7a93a-fe97-4f7d-dd48-96fdcbb808f6"
   },
   "outputs": [
    {
     "data": {
      "text/html": [
       "<div>\n",
       "<style scoped>\n",
       "    .dataframe tbody tr th:only-of-type {\n",
       "        vertical-align: middle;\n",
       "    }\n",
       "\n",
       "    .dataframe tbody tr th {\n",
       "        vertical-align: top;\n",
       "    }\n",
       "\n",
       "    .dataframe thead th {\n",
       "        text-align: right;\n",
       "    }\n",
       "</style>\n",
       "<table border=\"1\" class=\"dataframe\">\n",
       "  <thead>\n",
       "    <tr style=\"text-align: right;\">\n",
       "      <th></th>\n",
       "      <th>ID</th>\n",
       "      <th>Text</th>\n",
       "    </tr>\n",
       "  </thead>\n",
       "  <tbody>\n",
       "    <tr>\n",
       "      <th>0</th>\n",
       "      <td>0</td>\n",
       "      <td>Oncogenic mutations in the monomeric Casitas B...</td>\n",
       "    </tr>\n",
       "    <tr>\n",
       "      <th>1</th>\n",
       "      <td>1</td>\n",
       "      <td>Abstract Background  Non-small cell lung canc...</td>\n",
       "    </tr>\n",
       "  </tbody>\n",
       "</table>\n",
       "</div>"
      ],
      "text/plain": [
       "   ID                                               Text\n",
       "0   0  Oncogenic mutations in the monomeric Casitas B...\n",
       "1   1   Abstract Background  Non-small cell lung canc..."
      ]
     },
     "execution_count": 6,
     "metadata": {
      "tags": []
     },
     "output_type": "execute_result"
    }
   ],
   "source": [
    "test_text = pd.read_csv('gdrive/My Drive/Colab Notebooks/data/test_text', sep='\\|\\|', header=None, names=['ID','Text'], engine='python')\n",
    "test_text.head(2)"
   ]
  },
  {
   "cell_type": "code",
   "execution_count": 7,
   "metadata": {
    "colab": {
     "base_uri": "https://localhost:8080/",
     "height": 111
    },
    "colab_type": "code",
    "executionInfo": {
     "elapsed": 2816,
     "status": "ok",
     "timestamp": 1538077803326,
     "user": {
      "displayName": "Norbert Oksza Strzelecki",
      "photoUrl": "",
      "userId": "11757868523424655578"
     },
     "user_tz": -120
    },
    "id": "l67k048aDhTz",
    "outputId": "6115e0f0-7d3f-4711-854e-4efc629c0052"
   },
   "outputs": [
    {
     "data": {
      "text/html": [
       "<div>\n",
       "<style scoped>\n",
       "    .dataframe tbody tr th:only-of-type {\n",
       "        vertical-align: middle;\n",
       "    }\n",
       "\n",
       "    .dataframe tbody tr th {\n",
       "        vertical-align: top;\n",
       "    }\n",
       "\n",
       "    .dataframe thead th {\n",
       "        text-align: right;\n",
       "    }\n",
       "</style>\n",
       "<table border=\"1\" class=\"dataframe\">\n",
       "  <thead>\n",
       "    <tr style=\"text-align: right;\">\n",
       "      <th></th>\n",
       "      <th>ID</th>\n",
       "      <th>Gene</th>\n",
       "      <th>Variation</th>\n",
       "      <th>Class</th>\n",
       "    </tr>\n",
       "  </thead>\n",
       "  <tbody>\n",
       "    <tr>\n",
       "      <th>0</th>\n",
       "      <td>0</td>\n",
       "      <td>CBL</td>\n",
       "      <td>H398Q</td>\n",
       "      <td>4</td>\n",
       "    </tr>\n",
       "    <tr>\n",
       "      <th>1</th>\n",
       "      <td>1</td>\n",
       "      <td>CBL</td>\n",
       "      <td>S80N</td>\n",
       "      <td>6</td>\n",
       "    </tr>\n",
       "  </tbody>\n",
       "</table>\n",
       "</div>"
      ],
      "text/plain": [
       "   ID Gene Variation  Class\n",
       "0   0  CBL     H398Q      4\n",
       "1   1  CBL      S80N      6"
      ]
     },
     "execution_count": 7,
     "metadata": {
      "tags": []
     },
     "output_type": "execute_result"
    }
   ],
   "source": [
    "test_variants = pd.read_csv('gdrive/My Drive/Colab Notebooks/data/test_variants', names=['ID','Gene','Variation','Class'])\n",
    "test_variants.head(2)"
   ]
  },
  {
   "cell_type": "markdown",
   "metadata": {
    "colab_type": "text",
    "id": "A__8r0iMDhT6"
   },
   "source": [
    "**Joining dataframes**"
   ]
  },
  {
   "cell_type": "code",
   "execution_count": 8,
   "metadata": {
    "colab": {
     "base_uri": "https://localhost:8080/",
     "height": 221
    },
    "colab_type": "code",
    "executionInfo": {
     "elapsed": 800,
     "status": "ok",
     "timestamp": 1538077804370,
     "user": {
      "displayName": "Norbert Oksza Strzelecki",
      "photoUrl": "",
      "userId": "11757868523424655578"
     },
     "user_tz": -120
    },
    "id": "83T8k6YUDhT8",
    "outputId": "13443760-c624-499e-8f27-cb06ae65fe8a"
   },
   "outputs": [
    {
     "name": "stdout",
     "output_type": "stream",
     "text": [
      "(3321, 5)\n"
     ]
    },
    {
     "data": {
      "text/html": [
       "<div>\n",
       "<style scoped>\n",
       "    .dataframe tbody tr th:only-of-type {\n",
       "        vertical-align: middle;\n",
       "    }\n",
       "\n",
       "    .dataframe tbody tr th {\n",
       "        vertical-align: top;\n",
       "    }\n",
       "\n",
       "    .dataframe thead th {\n",
       "        text-align: right;\n",
       "    }\n",
       "</style>\n",
       "<table border=\"1\" class=\"dataframe\">\n",
       "  <thead>\n",
       "    <tr style=\"text-align: right;\">\n",
       "      <th></th>\n",
       "      <th>ID</th>\n",
       "      <th>Gene</th>\n",
       "      <th>Variation</th>\n",
       "      <th>Class</th>\n",
       "      <th>Text</th>\n",
       "    </tr>\n",
       "  </thead>\n",
       "  <tbody>\n",
       "    <tr>\n",
       "      <th>0</th>\n",
       "      <td>0</td>\n",
       "      <td>FAM58A</td>\n",
       "      <td>Truncating Mutations</td>\n",
       "      <td>1</td>\n",
       "      <td>Cyclin-dependent kinases (CDKs) regulate a var...</td>\n",
       "    </tr>\n",
       "    <tr>\n",
       "      <th>1</th>\n",
       "      <td>1</td>\n",
       "      <td>CBL</td>\n",
       "      <td>W802*</td>\n",
       "      <td>2</td>\n",
       "      <td>Abstract Background  Non-small cell lung canc...</td>\n",
       "    </tr>\n",
       "    <tr>\n",
       "      <th>2</th>\n",
       "      <td>2</td>\n",
       "      <td>CBL</td>\n",
       "      <td>Q249E</td>\n",
       "      <td>2</td>\n",
       "      <td>Abstract Background  Non-small cell lung canc...</td>\n",
       "    </tr>\n",
       "    <tr>\n",
       "      <th>3</th>\n",
       "      <td>3</td>\n",
       "      <td>CBL</td>\n",
       "      <td>N454D</td>\n",
       "      <td>3</td>\n",
       "      <td>Recent evidence has demonstrated that acquired...</td>\n",
       "    </tr>\n",
       "    <tr>\n",
       "      <th>4</th>\n",
       "      <td>4</td>\n",
       "      <td>CBL</td>\n",
       "      <td>L399V</td>\n",
       "      <td>4</td>\n",
       "      <td>Oncogenic mutations in the monomeric Casitas B...</td>\n",
       "    </tr>\n",
       "  </tbody>\n",
       "</table>\n",
       "</div>"
      ],
      "text/plain": [
       "   ID    Gene             Variation  Class  \\\n",
       "0   0  FAM58A  Truncating Mutations      1   \n",
       "1   1     CBL                 W802*      2   \n",
       "2   2     CBL                 Q249E      2   \n",
       "3   3     CBL                 N454D      3   \n",
       "4   4     CBL                 L399V      4   \n",
       "\n",
       "                                                Text  \n",
       "0  Cyclin-dependent kinases (CDKs) regulate a var...  \n",
       "1   Abstract Background  Non-small cell lung canc...  \n",
       "2   Abstract Background  Non-small cell lung canc...  \n",
       "3  Recent evidence has demonstrated that acquired...  \n",
       "4  Oncogenic mutations in the monomeric Casitas B...  "
      ]
     },
     "execution_count": 8,
     "metadata": {
      "tags": []
     },
     "output_type": "execute_result"
    }
   ],
   "source": [
    "df_train = pd.merge(train_variants, train_text, how='left', on='ID')\n",
    "print(df_train.shape)\n",
    "df_train.head()"
   ]
  },
  {
   "cell_type": "code",
   "execution_count": 9,
   "metadata": {
    "colab": {
     "base_uri": "https://localhost:8080/",
     "height": 119
    },
    "colab_type": "code",
    "executionInfo": {
     "elapsed": 894,
     "status": "ok",
     "timestamp": 1538077805709,
     "user": {
      "displayName": "Norbert Oksza Strzelecki",
      "photoUrl": "",
      "userId": "11757868523424655578"
     },
     "user_tz": -120
    },
    "id": "xs7nK7EqDhUE",
    "outputId": "7d3371f9-4455-432c-d227-67a05aa2e8b5"
   },
   "outputs": [
    {
     "data": {
      "text/plain": [
       "ID            int64\n",
       "Gene         object\n",
       "Variation    object\n",
       "Class         int64\n",
       "Text         object\n",
       "dtype: object"
      ]
     },
     "execution_count": 9,
     "metadata": {
      "tags": []
     },
     "output_type": "execute_result"
    }
   ],
   "source": [
    "df_train.dtypes"
   ]
  },
  {
   "cell_type": "code",
   "execution_count": 10,
   "metadata": {
    "colab": {
     "base_uri": "https://localhost:8080/",
     "height": 221
    },
    "colab_type": "code",
    "executionInfo": {
     "elapsed": 860,
     "status": "ok",
     "timestamp": 1538077806868,
     "user": {
      "displayName": "Norbert Oksza Strzelecki",
      "photoUrl": "",
      "userId": "11757868523424655578"
     },
     "user_tz": -120
    },
    "id": "XifNxPjSDhUP",
    "outputId": "979ae045-9565-4a64-afb6-b11ddad18778"
   },
   "outputs": [
    {
     "name": "stdout",
     "output_type": "stream",
     "text": [
      "(368, 5)\n"
     ]
    },
    {
     "data": {
      "text/html": [
       "<div>\n",
       "<style scoped>\n",
       "    .dataframe tbody tr th:only-of-type {\n",
       "        vertical-align: middle;\n",
       "    }\n",
       "\n",
       "    .dataframe tbody tr th {\n",
       "        vertical-align: top;\n",
       "    }\n",
       "\n",
       "    .dataframe thead th {\n",
       "        text-align: right;\n",
       "    }\n",
       "</style>\n",
       "<table border=\"1\" class=\"dataframe\">\n",
       "  <thead>\n",
       "    <tr style=\"text-align: right;\">\n",
       "      <th></th>\n",
       "      <th>ID</th>\n",
       "      <th>Gene</th>\n",
       "      <th>Variation</th>\n",
       "      <th>Class</th>\n",
       "      <th>Text</th>\n",
       "    </tr>\n",
       "  </thead>\n",
       "  <tbody>\n",
       "    <tr>\n",
       "      <th>0</th>\n",
       "      <td>0</td>\n",
       "      <td>CBL</td>\n",
       "      <td>H398Q</td>\n",
       "      <td>4</td>\n",
       "      <td>Oncogenic mutations in the monomeric Casitas B...</td>\n",
       "    </tr>\n",
       "    <tr>\n",
       "      <th>1</th>\n",
       "      <td>1</td>\n",
       "      <td>CBL</td>\n",
       "      <td>S80N</td>\n",
       "      <td>6</td>\n",
       "      <td>Abstract Background  Non-small cell lung canc...</td>\n",
       "    </tr>\n",
       "    <tr>\n",
       "      <th>2</th>\n",
       "      <td>2</td>\n",
       "      <td>SHOC2</td>\n",
       "      <td>M173I</td>\n",
       "      <td>4</td>\n",
       "      <td>Rasopathies are phenotypically similar syndrom...</td>\n",
       "    </tr>\n",
       "    <tr>\n",
       "      <th>3</th>\n",
       "      <td>3</td>\n",
       "      <td>DICER1</td>\n",
       "      <td>D1709N</td>\n",
       "      <td>4</td>\n",
       "      <td>Abstract  DICER1 plays a critical role in mic...</td>\n",
       "    </tr>\n",
       "    <tr>\n",
       "      <th>4</th>\n",
       "      <td>4</td>\n",
       "      <td>PTPRT</td>\n",
       "      <td>S492F</td>\n",
       "      <td>1</td>\n",
       "      <td>The receptor protein tyrosine phosphatase T (P...</td>\n",
       "    </tr>\n",
       "  </tbody>\n",
       "</table>\n",
       "</div>"
      ],
      "text/plain": [
       "   ID    Gene Variation  Class  \\\n",
       "0   0     CBL     H398Q      4   \n",
       "1   1     CBL      S80N      6   \n",
       "2   2   SHOC2     M173I      4   \n",
       "3   3  DICER1    D1709N      4   \n",
       "4   4   PTPRT     S492F      1   \n",
       "\n",
       "                                                Text  \n",
       "0  Oncogenic mutations in the monomeric Casitas B...  \n",
       "1   Abstract Background  Non-small cell lung canc...  \n",
       "2  Rasopathies are phenotypically similar syndrom...  \n",
       "3   Abstract  DICER1 plays a critical role in mic...  \n",
       "4  The receptor protein tyrosine phosphatase T (P...  "
      ]
     },
     "execution_count": 10,
     "metadata": {
      "tags": []
     },
     "output_type": "execute_result"
    }
   ],
   "source": [
    "df_test = pd.merge(test_variants, test_text, how='left', on='ID')\n",
    "print(df_test.shape)\n",
    "df_test.head()"
   ]
  },
  {
   "cell_type": "code",
   "execution_count": 11,
   "metadata": {
    "colab": {
     "base_uri": "https://localhost:8080/",
     "height": 119
    },
    "colab_type": "code",
    "executionInfo": {
     "elapsed": 912,
     "status": "ok",
     "timestamp": 1538077808087,
     "user": {
      "displayName": "Norbert Oksza Strzelecki",
      "photoUrl": "",
      "userId": "11757868523424655578"
     },
     "user_tz": -120
    },
    "id": "-OpabMcEDhUW",
    "outputId": "f557ef97-269b-4be4-ceb5-8aeab8288ab8"
   },
   "outputs": [
    {
     "data": {
      "text/plain": [
       "ID            int64\n",
       "Gene         object\n",
       "Variation    object\n",
       "Class         int64\n",
       "Text         object\n",
       "dtype: object"
      ]
     },
     "execution_count": 11,
     "metadata": {
      "tags": []
     },
     "output_type": "execute_result"
    }
   ],
   "source": [
    "df_test.dtypes"
   ]
  },
  {
   "cell_type": "markdown",
   "metadata": {
    "colab_type": "text",
    "id": "EU_8cPm7DhUd"
   },
   "source": [
    "### Basic information"
   ]
  },
  {
   "cell_type": "code",
   "execution_count": 12,
   "metadata": {
    "colab": {
     "base_uri": "https://localhost:8080/",
     "height": 54
    },
    "colab_type": "code",
    "executionInfo": {
     "elapsed": 755,
     "status": "ok",
     "timestamp": 1538077809533,
     "user": {
      "displayName": "Norbert Oksza Strzelecki",
      "photoUrl": "",
      "userId": "11757868523424655578"
     },
     "user_tz": -120
    },
    "id": "8NO7D9ouDhUf",
    "outputId": "0bb2f048-33d6-4a07-d80c-c083d0f65eec"
   },
   "outputs": [
    {
     "data": {
      "text/plain": [
       "'Cyclin-dependent kinases (CDKs) regulate a variety of fundamental cellular processes. CDK10 stands out as one of the last orphan CDKs for which no activating cyclin has been identified and no kinase activity revealed. Previous work has shown that CDK10 silencing increases ETS2 (v-ets erythroblastosis virus E26 oncogene homolog 2)-driven activation of the MAPK pathway, which confers tamoxifen resistance to breast cancer cells. The precise mechanisms by which CDK10 modulates ETS2 activity, and more generally the functions of CDK10, remain elusive. Here we demonstrate that CDK10 is a cyclin-dependent kinase by identifying cyclin M as an activating cyclin. Cyclin M, an orphan cyclin, is the product of FAM58A, whose mutations cause STAR syndrome, a human developmental anomaly whose features include toe syndactyly, telecanthus, and anogenital and renal malformations. We show that STAR syndrome'"
      ]
     },
     "execution_count": 12,
     "metadata": {
      "tags": []
     },
     "output_type": "execute_result"
    }
   ],
   "source": [
    "# How the text description looks like \n",
    "df_train['Text'][0][:900]"
   ]
  },
  {
   "cell_type": "code",
   "execution_count": 13,
   "metadata": {
    "colab": {
     "base_uri": "https://localhost:8080/",
     "height": 390
    },
    "colab_type": "code",
    "executionInfo": {
     "elapsed": 1298,
     "status": "ok",
     "timestamp": 1538077811143,
     "user": {
      "displayName": "Norbert Oksza Strzelecki",
      "photoUrl": "",
      "userId": "11757868523424655578"
     },
     "user_tz": -120
    },
    "id": "dq1tWMubDhUl",
    "outputId": "285aab84-a5d5-44e9-a3c4-bd618de521b2"
   },
   "outputs": [
    {
     "data": {
      "text/html": [
       "<div>\n",
       "<style scoped>\n",
       "    .dataframe tbody tr th:only-of-type {\n",
       "        vertical-align: middle;\n",
       "    }\n",
       "\n",
       "    .dataframe tbody tr th {\n",
       "        vertical-align: top;\n",
       "    }\n",
       "\n",
       "    .dataframe thead th {\n",
       "        text-align: right;\n",
       "    }\n",
       "</style>\n",
       "<table border=\"1\" class=\"dataframe\">\n",
       "  <thead>\n",
       "    <tr style=\"text-align: right;\">\n",
       "      <th></th>\n",
       "      <th>ID</th>\n",
       "      <th>Gene</th>\n",
       "      <th>Variation</th>\n",
       "      <th>Class</th>\n",
       "      <th>Text</th>\n",
       "    </tr>\n",
       "  </thead>\n",
       "  <tbody>\n",
       "    <tr>\n",
       "      <th>count</th>\n",
       "      <td>3321.000000</td>\n",
       "      <td>3321</td>\n",
       "      <td>3321</td>\n",
       "      <td>3321.000000</td>\n",
       "      <td>3316</td>\n",
       "    </tr>\n",
       "    <tr>\n",
       "      <th>unique</th>\n",
       "      <td>NaN</td>\n",
       "      <td>264</td>\n",
       "      <td>2996</td>\n",
       "      <td>NaN</td>\n",
       "      <td>1920</td>\n",
       "    </tr>\n",
       "    <tr>\n",
       "      <th>top</th>\n",
       "      <td>NaN</td>\n",
       "      <td>BRCA1</td>\n",
       "      <td>Truncating Mutations</td>\n",
       "      <td>NaN</td>\n",
       "      <td>The PTEN (phosphatase and tensin homolog) phos...</td>\n",
       "    </tr>\n",
       "    <tr>\n",
       "      <th>freq</th>\n",
       "      <td>NaN</td>\n",
       "      <td>264</td>\n",
       "      <td>93</td>\n",
       "      <td>NaN</td>\n",
       "      <td>53</td>\n",
       "    </tr>\n",
       "    <tr>\n",
       "      <th>mean</th>\n",
       "      <td>1660.000000</td>\n",
       "      <td>NaN</td>\n",
       "      <td>NaN</td>\n",
       "      <td>4.365854</td>\n",
       "      <td>NaN</td>\n",
       "    </tr>\n",
       "    <tr>\n",
       "      <th>std</th>\n",
       "      <td>958.834449</td>\n",
       "      <td>NaN</td>\n",
       "      <td>NaN</td>\n",
       "      <td>2.309781</td>\n",
       "      <td>NaN</td>\n",
       "    </tr>\n",
       "    <tr>\n",
       "      <th>min</th>\n",
       "      <td>0.000000</td>\n",
       "      <td>NaN</td>\n",
       "      <td>NaN</td>\n",
       "      <td>1.000000</td>\n",
       "      <td>NaN</td>\n",
       "    </tr>\n",
       "    <tr>\n",
       "      <th>25%</th>\n",
       "      <td>830.000000</td>\n",
       "      <td>NaN</td>\n",
       "      <td>NaN</td>\n",
       "      <td>2.000000</td>\n",
       "      <td>NaN</td>\n",
       "    </tr>\n",
       "    <tr>\n",
       "      <th>50%</th>\n",
       "      <td>1660.000000</td>\n",
       "      <td>NaN</td>\n",
       "      <td>NaN</td>\n",
       "      <td>4.000000</td>\n",
       "      <td>NaN</td>\n",
       "    </tr>\n",
       "    <tr>\n",
       "      <th>75%</th>\n",
       "      <td>2490.000000</td>\n",
       "      <td>NaN</td>\n",
       "      <td>NaN</td>\n",
       "      <td>7.000000</td>\n",
       "      <td>NaN</td>\n",
       "    </tr>\n",
       "    <tr>\n",
       "      <th>max</th>\n",
       "      <td>3320.000000</td>\n",
       "      <td>NaN</td>\n",
       "      <td>NaN</td>\n",
       "      <td>9.000000</td>\n",
       "      <td>NaN</td>\n",
       "    </tr>\n",
       "  </tbody>\n",
       "</table>\n",
       "</div>"
      ],
      "text/plain": [
       "                 ID   Gene             Variation        Class  \\\n",
       "count   3321.000000   3321                  3321  3321.000000   \n",
       "unique          NaN    264                  2996          NaN   \n",
       "top             NaN  BRCA1  Truncating Mutations          NaN   \n",
       "freq            NaN    264                    93          NaN   \n",
       "mean    1660.000000    NaN                   NaN     4.365854   \n",
       "std      958.834449    NaN                   NaN     2.309781   \n",
       "min        0.000000    NaN                   NaN     1.000000   \n",
       "25%      830.000000    NaN                   NaN     2.000000   \n",
       "50%     1660.000000    NaN                   NaN     4.000000   \n",
       "75%     2490.000000    NaN                   NaN     7.000000   \n",
       "max     3320.000000    NaN                   NaN     9.000000   \n",
       "\n",
       "                                                     Text  \n",
       "count                                                3316  \n",
       "unique                                               1920  \n",
       "top     The PTEN (phosphatase and tensin homolog) phos...  \n",
       "freq                                                   53  \n",
       "mean                                                  NaN  \n",
       "std                                                   NaN  \n",
       "min                                                   NaN  \n",
       "25%                                                   NaN  \n",
       "50%                                                   NaN  \n",
       "75%                                                   NaN  \n",
       "max                                                   NaN  "
      ]
     },
     "execution_count": 13,
     "metadata": {
      "tags": []
     },
     "output_type": "execute_result"
    }
   ],
   "source": [
    "df_train.describe(include='all')"
   ]
  },
  {
   "cell_type": "code",
   "execution_count": 14,
   "metadata": {
    "colab": {
     "base_uri": "https://localhost:8080/",
     "height": 390
    },
    "colab_type": "code",
    "executionInfo": {
     "elapsed": 1490,
     "status": "ok",
     "timestamp": 1538077812932,
     "user": {
      "displayName": "Norbert Oksza Strzelecki",
      "photoUrl": "",
      "userId": "11757868523424655578"
     },
     "user_tz": -120
    },
    "id": "twJTPPSADhU3",
    "outputId": "b147343a-435c-4f73-fbd0-5985e9bc599e"
   },
   "outputs": [
    {
     "data": {
      "text/html": [
       "<div>\n",
       "<style scoped>\n",
       "    .dataframe tbody tr th:only-of-type {\n",
       "        vertical-align: middle;\n",
       "    }\n",
       "\n",
       "    .dataframe tbody tr th {\n",
       "        vertical-align: top;\n",
       "    }\n",
       "\n",
       "    .dataframe thead th {\n",
       "        text-align: right;\n",
       "    }\n",
       "</style>\n",
       "<table border=\"1\" class=\"dataframe\">\n",
       "  <thead>\n",
       "    <tr style=\"text-align: right;\">\n",
       "      <th></th>\n",
       "      <th>ID</th>\n",
       "      <th>Gene</th>\n",
       "      <th>Variation</th>\n",
       "      <th>Class</th>\n",
       "      <th>Text</th>\n",
       "    </tr>\n",
       "  </thead>\n",
       "  <tbody>\n",
       "    <tr>\n",
       "      <th>count</th>\n",
       "      <td>368.000000</td>\n",
       "      <td>368</td>\n",
       "      <td>368</td>\n",
       "      <td>368.000000</td>\n",
       "      <td>367</td>\n",
       "    </tr>\n",
       "    <tr>\n",
       "      <th>unique</th>\n",
       "      <td>NaN</td>\n",
       "      <td>140</td>\n",
       "      <td>328</td>\n",
       "      <td>NaN</td>\n",
       "      <td>310</td>\n",
       "    </tr>\n",
       "    <tr>\n",
       "      <th>top</th>\n",
       "      <td>NaN</td>\n",
       "      <td>BRCA1</td>\n",
       "      <td>Truncating Mutations</td>\n",
       "      <td>NaN</td>\n",
       "      <td>Mutations in BRCA1 and BRCA2 account for the m...</td>\n",
       "    </tr>\n",
       "    <tr>\n",
       "      <th>freq</th>\n",
       "      <td>NaN</td>\n",
       "      <td>29</td>\n",
       "      <td>18</td>\n",
       "      <td>NaN</td>\n",
       "      <td>6</td>\n",
       "    </tr>\n",
       "    <tr>\n",
       "      <th>mean</th>\n",
       "      <td>183.500000</td>\n",
       "      <td>NaN</td>\n",
       "      <td>NaN</td>\n",
       "      <td>4.078804</td>\n",
       "      <td>NaN</td>\n",
       "    </tr>\n",
       "    <tr>\n",
       "      <th>std</th>\n",
       "      <td>106.376689</td>\n",
       "      <td>NaN</td>\n",
       "      <td>NaN</td>\n",
       "      <td>2.469826</td>\n",
       "      <td>NaN</td>\n",
       "    </tr>\n",
       "    <tr>\n",
       "      <th>min</th>\n",
       "      <td>0.000000</td>\n",
       "      <td>NaN</td>\n",
       "      <td>NaN</td>\n",
       "      <td>1.000000</td>\n",
       "      <td>NaN</td>\n",
       "    </tr>\n",
       "    <tr>\n",
       "      <th>25%</th>\n",
       "      <td>91.750000</td>\n",
       "      <td>NaN</td>\n",
       "      <td>NaN</td>\n",
       "      <td>1.000000</td>\n",
       "      <td>NaN</td>\n",
       "    </tr>\n",
       "    <tr>\n",
       "      <th>50%</th>\n",
       "      <td>183.500000</td>\n",
       "      <td>NaN</td>\n",
       "      <td>NaN</td>\n",
       "      <td>4.000000</td>\n",
       "      <td>NaN</td>\n",
       "    </tr>\n",
       "    <tr>\n",
       "      <th>75%</th>\n",
       "      <td>275.250000</td>\n",
       "      <td>NaN</td>\n",
       "      <td>NaN</td>\n",
       "      <td>7.000000</td>\n",
       "      <td>NaN</td>\n",
       "    </tr>\n",
       "    <tr>\n",
       "      <th>max</th>\n",
       "      <td>367.000000</td>\n",
       "      <td>NaN</td>\n",
       "      <td>NaN</td>\n",
       "      <td>9.000000</td>\n",
       "      <td>NaN</td>\n",
       "    </tr>\n",
       "  </tbody>\n",
       "</table>\n",
       "</div>"
      ],
      "text/plain": [
       "                ID   Gene             Variation       Class  \\\n",
       "count   368.000000    368                   368  368.000000   \n",
       "unique         NaN    140                   328         NaN   \n",
       "top            NaN  BRCA1  Truncating Mutations         NaN   \n",
       "freq           NaN     29                    18         NaN   \n",
       "mean    183.500000    NaN                   NaN    4.078804   \n",
       "std     106.376689    NaN                   NaN    2.469826   \n",
       "min       0.000000    NaN                   NaN    1.000000   \n",
       "25%      91.750000    NaN                   NaN    1.000000   \n",
       "50%     183.500000    NaN                   NaN    4.000000   \n",
       "75%     275.250000    NaN                   NaN    7.000000   \n",
       "max     367.000000    NaN                   NaN    9.000000   \n",
       "\n",
       "                                                     Text  \n",
       "count                                                 367  \n",
       "unique                                                310  \n",
       "top     Mutations in BRCA1 and BRCA2 account for the m...  \n",
       "freq                                                    6  \n",
       "mean                                                  NaN  \n",
       "std                                                   NaN  \n",
       "min                                                   NaN  \n",
       "25%                                                   NaN  \n",
       "50%                                                   NaN  \n",
       "75%                                                   NaN  \n",
       "max                                                   NaN  "
      ]
     },
     "execution_count": 14,
     "metadata": {
      "tags": []
     },
     "output_type": "execute_result"
    }
   ],
   "source": [
    "df_test.describe(include='all')"
   ]
  },
  {
   "cell_type": "markdown",
   "metadata": {
    "colab_type": "text",
    "id": "RPVvWUO8DhVB"
   },
   "source": [
    "**Checking class distribution**"
   ]
  },
  {
   "cell_type": "code",
   "execution_count": 15,
   "metadata": {
    "colab": {
     "base_uri": "https://localhost:8080/",
     "height": 439
    },
    "colab_type": "code",
    "executionInfo": {
     "elapsed": 1679,
     "status": "ok",
     "timestamp": 1538077815134,
     "user": {
      "displayName": "Norbert Oksza Strzelecki",
      "photoUrl": "",
      "userId": "11757868523424655578"
     },
     "user_tz": -120
    },
    "id": "UAy3hW-oDhVC",
    "outputId": "9bd1b37a-84fb-41b7-cc13-987c987c53ce"
   },
   "outputs": [
    {
     "name": "stderr",
     "output_type": "stream",
     "text": [
      "/usr/local/lib/python3.6/dist-packages/seaborn/categorical.py:1428: FutureWarning: remove_na is deprecated and is a private function. Do not use.\n",
      "  stat_data = remove_na(group_data)\n"
     ]
    },
    {
     "data": {
      "image/png": "[encoded data removed]",
      "text/plain": [
       "<matplotlib.figure.Figure at 0x7fc4896c8198>"
      ]
     },
     "metadata": {
      "tags": []
     },
     "output_type": "display_data"
    }
   ],
   "source": [
    "plt.figure(figsize=(8,6))\n",
    "sns.countplot(df_train['Class'], palette='Reds_d')\n",
    "plt.title('Distribution of gene classes', fontsize=12)\n",
    "plt.xlabel('Class', fontsize=12)\n",
    "plt.ylabel('Frequency', fontsize=12);"
   ]
  },
  {
   "cell_type": "markdown",
   "metadata": {
    "colab_type": "text",
    "id": "9lEryrg7DhVI"
   },
   "source": [
    "Classes are imbalanced"
   ]
  },
  {
   "cell_type": "code",
   "execution_count": 0,
   "metadata": {
    "colab": {},
    "colab_type": "code",
    "id": "OpaKBLB_DhVJ"
   },
   "outputs": [],
   "source": [
    "# Let's check words distribution\n",
    "df_train['Words_count'] = df_train['Text'].apply(lambda x: len(str(x).split(' ')))"
   ]
  },
  {
   "cell_type": "code",
   "execution_count": 17,
   "metadata": {
    "colab": {
     "base_uri": "https://localhost:8080/",
     "height": 422
    },
    "colab_type": "code",
    "executionInfo": {
     "elapsed": 1513,
     "status": "ok",
     "timestamp": 1538077820650,
     "user": {
      "displayName": "Norbert Oksza Strzelecki",
      "photoUrl": "",
      "userId": "11757868523424655578"
     },
     "user_tz": -120
    },
    "id": "W7yBKH8GDhVM",
    "outputId": "2cce6db5-64e1-4aaa-8b00-e6ca31819302"
   },
   "outputs": [
    {
     "data": {
      "image/png": "[encoded data removed]",
      "text/plain": [
       "<matplotlib.figure.Figure at 0x7fc48964e710>"
      ]
     },
     "metadata": {
      "tags": []
     },
     "output_type": "display_data"
    },
    {
     "name": "stdout",
     "output_type": "stream",
     "text": [
      "Median of words count is 6708.0\n"
     ]
    }
   ],
   "source": [
    "plt.figure(figsize=(8,6))\n",
    "sns.distplot(df_train['Words_count'], color='red', kde=False)\n",
    "plt.title('Distribution of words counts', fontsize=12)\n",
    "plt.xlabel('Word count', fontsize=12)\n",
    "plt.ylabel('Frequency', fontsize=12)\n",
    "plt.show()\n",
    "\n",
    "print('Median of words count is', df_train['Words_count'].median())"
   ]
  },
  {
   "cell_type": "code",
   "execution_count": 18,
   "metadata": {
    "colab": {
     "base_uri": "https://localhost:8080/",
     "height": 439
    },
    "colab_type": "code",
    "executionInfo": {
     "elapsed": 26426,
     "status": "ok",
     "timestamp": 1538077847298,
     "user": {
      "displayName": "Norbert Oksza Strzelecki",
      "photoUrl": "",
      "userId": "11757868523424655578"
     },
     "user_tz": -120
    },
    "id": "B63a0D46DhVQ",
    "outputId": "be328aba-a2ca-4f7e-f078-ce0a79ad8142"
   },
   "outputs": [
    {
     "name": "stderr",
     "output_type": "stream",
     "text": [
      "/usr/local/lib/python3.6/dist-packages/seaborn/categorical.py:454: FutureWarning: remove_na is deprecated and is a private function. Do not use.\n",
      "  box_data = remove_na(group_data)\n"
     ]
    },
    {
     "data": {
      "image/png": "[encoded data removed]",
      "text/plain": [
       "<matplotlib.figure.Figure at 0x7fc486d576a0>"
      ]
     },
     "metadata": {
      "tags": []
     },
     "output_type": "display_data"
    }
   ],
   "source": [
    "# Number of words in description by gene class\n",
    "plt.figure(figsize=(8,6))\n",
    "sns.swarmplot(x='Class', y='Words_count', data=df_train, palette='Blues_d', alpha=.4, size=3)\n",
    "sns.boxplot(x='Class', y='Words_count', data=df_train, width=0.5, linewidth=0.8, fliersize=2, palette='Reds_d')\n",
    "plt.title('Distribution of gene classes', fontsize=12)\n",
    "plt.xlabel('Class', fontsize=12)\n",
    "plt.ylabel('Frequency', fontsize=12)\n",
    "plt.show()"
   ]
  },
  {
   "cell_type": "markdown",
   "metadata": {
    "colab_type": "text",
    "id": "1anS_je8DhVX"
   },
   "source": [
    "Maybe we could also use this kind of dependency shown above to classify gene variants. It seems that the 3 & 6 variant is differently described."
   ]
  },
  {
   "cell_type": "code",
   "execution_count": 19,
   "metadata": {
    "colab": {
     "base_uri": "https://localhost:8080/",
     "height": 886
    },
    "colab_type": "code",
    "executionInfo": {
     "elapsed": 3615,
     "status": "ok",
     "timestamp": 1538077850996,
     "user": {
      "displayName": "Norbert Oksza Strzelecki",
      "photoUrl": "",
      "userId": "11757868523424655578"
     },
     "user_tz": -120
    },
    "id": "zlSEDKV2DhVX",
    "outputId": "c0b6e44b-d686-4232-badf-4c21c3274008"
   },
   "outputs": [
    {
     "name": "stderr",
     "output_type": "stream",
     "text": [
      "/usr/local/lib/python3.6/dist-packages/seaborn/categorical.py:1428: FutureWarning: remove_na is deprecated and is a private function. Do not use.\n",
      "  stat_data = remove_na(group_data)\n"
     ]
    },
    {
     "data": {
      "image/png": "[encoded data removed]",
      "text/plain": [
       "<matplotlib.figure.Figure at 0x7fc486bd1128>"
      ]
     },
     "metadata": {
      "tags": []
     },
     "output_type": "display_data"
    }
   ],
   "source": [
    "# Top10 genes in each class\n",
    "\n",
    "fig, ax = plt.subplots(3, 3, figsize=(20,14))\n",
    "\n",
    "n_id = 1\n",
    "for i in range(3):\n",
    "    for j in range(3):\n",
    "        counts = df_train[df_train['Class'] == ((i*3+j)+1)].groupby('Gene')['ID'].count().reset_index()\n",
    "        groups = counts.sort_values('ID', ascending=False)\n",
    "        groups_top5 = groups[:10]\n",
    "        g = sns.barplot(x='Gene', y='ID', data=groups_top5, palette='Reds_d',  ax=ax[i][j])\n",
    "        ax[i][j].set_title('Class %s' % n_id)\n",
    "        ax[i][j].set_xlabel(' ')\n",
    "        plt.setp(g.get_xticklabels(), rotation=20, size=10)\n",
    "        n_id += 1"
   ]
  },
  {
   "cell_type": "code",
   "execution_count": 20,
   "metadata": {
    "colab": {
     "base_uri": "https://localhost:8080/",
     "height": 359
    },
    "colab_type": "code",
    "executionInfo": {
     "elapsed": 1390,
     "status": "ok",
     "timestamp": 1538077852428,
     "user": {
      "displayName": "Norbert Oksza Strzelecki",
      "photoUrl": "",
      "userId": "11757868523424655578"
     },
     "user_tz": -120
    },
    "id": "vNPdcq9yDhVf",
    "outputId": "07ec4773-e374-4eeb-d8f3-fcc4e983c84d"
   },
   "outputs": [
    {
     "data": {
      "text/html": [
       "<div>\n",
       "<style scoped>\n",
       "    .dataframe tbody tr th:only-of-type {\n",
       "        vertical-align: middle;\n",
       "    }\n",
       "\n",
       "    .dataframe tbody tr th {\n",
       "        vertical-align: top;\n",
       "    }\n",
       "\n",
       "    .dataframe thead th {\n",
       "        text-align: right;\n",
       "    }\n",
       "</style>\n",
       "<table border=\"1\" class=\"dataframe\">\n",
       "  <thead>\n",
       "    <tr style=\"text-align: right;\">\n",
       "      <th></th>\n",
       "      <th>count</th>\n",
       "      <th>mean</th>\n",
       "      <th>std</th>\n",
       "      <th>min</th>\n",
       "      <th>25%</th>\n",
       "      <th>50%</th>\n",
       "      <th>75%</th>\n",
       "      <th>max</th>\n",
       "    </tr>\n",
       "    <tr>\n",
       "      <th>Class</th>\n",
       "      <th></th>\n",
       "      <th></th>\n",
       "      <th></th>\n",
       "      <th></th>\n",
       "      <th></th>\n",
       "      <th></th>\n",
       "      <th></th>\n",
       "      <th></th>\n",
       "    </tr>\n",
       "  </thead>\n",
       "  <tbody>\n",
       "    <tr>\n",
       "      <th>1</th>\n",
       "      <td>568.0</td>\n",
       "      <td>9481.813380</td>\n",
       "      <td>6546.450083</td>\n",
       "      <td>1.0</td>\n",
       "      <td>4970.00</td>\n",
       "      <td>7326.0</td>\n",
       "      <td>12725.25</td>\n",
       "      <td>54099.0</td>\n",
       "    </tr>\n",
       "    <tr>\n",
       "      <th>2</th>\n",
       "      <td>452.0</td>\n",
       "      <td>9356.723451</td>\n",
       "      <td>7657.874081</td>\n",
       "      <td>116.0</td>\n",
       "      <td>4176.75</td>\n",
       "      <td>6706.0</td>\n",
       "      <td>12336.25</td>\n",
       "      <td>61679.0</td>\n",
       "    </tr>\n",
       "    <tr>\n",
       "      <th>3</th>\n",
       "      <td>89.0</td>\n",
       "      <td>6765.842697</td>\n",
       "      <td>3701.478503</td>\n",
       "      <td>1755.0</td>\n",
       "      <td>4326.00</td>\n",
       "      <td>5625.0</td>\n",
       "      <td>7428.00</td>\n",
       "      <td>27572.0</td>\n",
       "    </tr>\n",
       "    <tr>\n",
       "      <th>4</th>\n",
       "      <td>686.0</td>\n",
       "      <td>9037.549563</td>\n",
       "      <td>7375.759126</td>\n",
       "      <td>53.0</td>\n",
       "      <td>4593.00</td>\n",
       "      <td>6375.0</td>\n",
       "      <td>11586.00</td>\n",
       "      <td>44358.0</td>\n",
       "    </tr>\n",
       "    <tr>\n",
       "      <th>5</th>\n",
       "      <td>242.0</td>\n",
       "      <td>7510.243802</td>\n",
       "      <td>3860.881987</td>\n",
       "      <td>183.0</td>\n",
       "      <td>5246.00</td>\n",
       "      <td>6514.0</td>\n",
       "      <td>9593.75</td>\n",
       "      <td>24343.0</td>\n",
       "    </tr>\n",
       "    <tr>\n",
       "      <th>6</th>\n",
       "      <td>275.0</td>\n",
       "      <td>7003.272727</td>\n",
       "      <td>3844.647905</td>\n",
       "      <td>1.0</td>\n",
       "      <td>4523.00</td>\n",
       "      <td>6620.0</td>\n",
       "      <td>7421.00</td>\n",
       "      <td>24757.0</td>\n",
       "    </tr>\n",
       "    <tr>\n",
       "      <th>7</th>\n",
       "      <td>953.0</td>\n",
       "      <td>11493.173137</td>\n",
       "      <td>10134.744568</td>\n",
       "      <td>1.0</td>\n",
       "      <td>4909.00</td>\n",
       "      <td>8322.0</td>\n",
       "      <td>14687.00</td>\n",
       "      <td>77202.0</td>\n",
       "    </tr>\n",
       "    <tr>\n",
       "      <th>8</th>\n",
       "      <td>19.0</td>\n",
       "      <td>10892.578947</td>\n",
       "      <td>5689.412080</td>\n",
       "      <td>2120.0</td>\n",
       "      <td>5632.00</td>\n",
       "      <td>11322.0</td>\n",
       "      <td>15652.00</td>\n",
       "      <td>20779.0</td>\n",
       "    </tr>\n",
       "    <tr>\n",
       "      <th>9</th>\n",
       "      <td>37.0</td>\n",
       "      <td>12875.351351</td>\n",
       "      <td>10249.082228</td>\n",
       "      <td>1153.0</td>\n",
       "      <td>4990.00</td>\n",
       "      <td>10986.0</td>\n",
       "      <td>15927.00</td>\n",
       "      <td>45215.0</td>\n",
       "    </tr>\n",
       "  </tbody>\n",
       "</table>\n",
       "</div>"
      ],
      "text/plain": [
       "       count          mean           std     min      25%      50%       75%  \\\n",
       "Class                                                                          \n",
       "1      568.0   9481.813380   6546.450083     1.0  4970.00   7326.0  12725.25   \n",
       "2      452.0   9356.723451   7657.874081   116.0  4176.75   6706.0  12336.25   \n",
       "3       89.0   6765.842697   3701.478503  1755.0  4326.00   5625.0   7428.00   \n",
       "4      686.0   9037.549563   7375.759126    53.0  4593.00   6375.0  11586.00   \n",
       "5      242.0   7510.243802   3860.881987   183.0  5246.00   6514.0   9593.75   \n",
       "6      275.0   7003.272727   3844.647905     1.0  4523.00   6620.0   7421.00   \n",
       "7      953.0  11493.173137  10134.744568     1.0  4909.00   8322.0  14687.00   \n",
       "8       19.0  10892.578947   5689.412080  2120.0  5632.00  11322.0  15652.00   \n",
       "9       37.0  12875.351351  10249.082228  1153.0  4990.00  10986.0  15927.00   \n",
       "\n",
       "           max  \n",
       "Class           \n",
       "1      54099.0  \n",
       "2      61679.0  \n",
       "3      27572.0  \n",
       "4      44358.0  \n",
       "5      24343.0  \n",
       "6      24757.0  \n",
       "7      77202.0  \n",
       "8      20779.0  \n",
       "9      45215.0  "
      ]
     },
     "execution_count": 20,
     "metadata": {
      "tags": []
     },
     "output_type": "execute_result"
    }
   ],
   "source": [
    "# Statistics by class\n",
    "df_train.groupby('Class')['Words_count'].describe()"
   ]
  },
  {
   "cell_type": "code",
   "execution_count": 21,
   "metadata": {
    "colab": {
     "base_uri": "https://localhost:8080/",
     "height": 204
    },
    "colab_type": "code",
    "executionInfo": {
     "elapsed": 815,
     "status": "ok",
     "timestamp": 1538077853472,
     "user": {
      "displayName": "Norbert Oksza Strzelecki",
      "photoUrl": "",
      "userId": "11757868523424655578"
     },
     "user_tz": -120
    },
    "id": "O-ohWhV6DhVp",
    "outputId": "901e8f91-147e-4f75-da21-b019fbb8eb64"
   },
   "outputs": [
    {
     "data": {
      "text/html": [
       "<div>\n",
       "<style scoped>\n",
       "    .dataframe tbody tr th:only-of-type {\n",
       "        vertical-align: middle;\n",
       "    }\n",
       "\n",
       "    .dataframe tbody tr th {\n",
       "        vertical-align: top;\n",
       "    }\n",
       "\n",
       "    .dataframe thead th {\n",
       "        text-align: right;\n",
       "    }\n",
       "</style>\n",
       "<table border=\"1\" class=\"dataframe\">\n",
       "  <thead>\n",
       "    <tr style=\"text-align: right;\">\n",
       "      <th></th>\n",
       "      <th>ID</th>\n",
       "      <th>Gene</th>\n",
       "      <th>Variation</th>\n",
       "      <th>Class</th>\n",
       "      <th>Text</th>\n",
       "      <th>Words_count</th>\n",
       "    </tr>\n",
       "  </thead>\n",
       "  <tbody>\n",
       "    <tr>\n",
       "      <th>1109</th>\n",
       "      <td>1109</td>\n",
       "      <td>FANCA</td>\n",
       "      <td>S1088F</td>\n",
       "      <td>1</td>\n",
       "      <td>NaN</td>\n",
       "      <td>1</td>\n",
       "    </tr>\n",
       "    <tr>\n",
       "      <th>1277</th>\n",
       "      <td>1277</td>\n",
       "      <td>ARID5B</td>\n",
       "      <td>Truncating Mutations</td>\n",
       "      <td>1</td>\n",
       "      <td>NaN</td>\n",
       "      <td>1</td>\n",
       "    </tr>\n",
       "    <tr>\n",
       "      <th>1407</th>\n",
       "      <td>1407</td>\n",
       "      <td>FGFR3</td>\n",
       "      <td>K508M</td>\n",
       "      <td>6</td>\n",
       "      <td>NaN</td>\n",
       "      <td>1</td>\n",
       "    </tr>\n",
       "    <tr>\n",
       "      <th>1639</th>\n",
       "      <td>1639</td>\n",
       "      <td>FLT1</td>\n",
       "      <td>Amplification</td>\n",
       "      <td>6</td>\n",
       "      <td>NaN</td>\n",
       "      <td>1</td>\n",
       "    </tr>\n",
       "    <tr>\n",
       "      <th>2755</th>\n",
       "      <td>2755</td>\n",
       "      <td>BRAF</td>\n",
       "      <td>G596C</td>\n",
       "      <td>7</td>\n",
       "      <td>NaN</td>\n",
       "      <td>1</td>\n",
       "    </tr>\n",
       "  </tbody>\n",
       "</table>\n",
       "</div>"
      ],
      "text/plain": [
       "        ID    Gene             Variation  Class Text  Words_count\n",
       "1109  1109   FANCA                S1088F      1  NaN            1\n",
       "1277  1277  ARID5B  Truncating Mutations      1  NaN            1\n",
       "1407  1407   FGFR3                 K508M      6  NaN            1\n",
       "1639  1639    FLT1         Amplification      6  NaN            1\n",
       "2755  2755    BRAF                 G596C      7  NaN            1"
      ]
     },
     "execution_count": 21,
     "metadata": {
      "tags": []
     },
     "output_type": "execute_result"
    }
   ],
   "source": [
    "# Looking at above minimal 'Word_count' equal 1, let's look at genes with missing values in description\n",
    "df_train[df_train['Words_count'] == 1]"
   ]
  },
  {
   "cell_type": "markdown",
   "metadata": {
    "colab_type": "text",
    "id": "_Jcya_Z3DhVv"
   },
   "source": [
    "## Baseline classification"
   ]
  },
  {
   "cell_type": "code",
   "execution_count": 0,
   "metadata": {
    "colab": {},
    "colab_type": "code",
    "id": "WNXJ5OMcDhV8"
   },
   "outputs": [],
   "source": [
    "# Helper function\n",
    "\n",
    "def evaluate_features(X, y, clf=None):\n",
    "    if clf is None:\n",
    "        clf = LogisticRegression()\n",
    "    \n",
    "    probas = cross_val_predict(clf, X, y, \n",
    "                               cv=StratifiedKFold(random_state=42, n_splits=5), \n",
    "                               method='predict_proba',\n",
    "                               n_jobs=-1)\n",
    "    \n",
    "    pred_indices = np.argmax(probas, axis=1)\n",
    "    classes = np.unique(y)\n",
    "    preds = classes[pred_indices]\n",
    "    print('Log loss: {}'.format(log_loss(y, probas)))\n",
    "    print('Accuracy: {}'.format(accuracy_score(y, preds)))\n",
    "#     plot_confusion_matrix(y, preds, cmap='Reds')"
   ]
  },
  {
   "cell_type": "code",
   "execution_count": 23,
   "metadata": {
    "colab": {
     "base_uri": "https://localhost:8080/",
     "height": 49
    },
    "colab_type": "code",
    "executionInfo": {
     "elapsed": 1626,
     "status": "ok",
     "timestamp": 1538077856691,
     "user": {
      "displayName": "Norbert Oksza Strzelecki",
      "photoUrl": "",
      "userId": "11757868523424655578"
     },
     "user_tz": -120
    },
    "id": "4Qd2vR3iDhWI",
    "outputId": "7012cd53-40c1-46f1-f510-8dcde78b64ca"
   },
   "outputs": [
    {
     "data": {
      "text/html": [
       "<div>\n",
       "<style scoped>\n",
       "    .dataframe tbody tr th:only-of-type {\n",
       "        vertical-align: middle;\n",
       "    }\n",
       "\n",
       "    .dataframe tbody tr th {\n",
       "        vertical-align: top;\n",
       "    }\n",
       "\n",
       "    .dataframe thead th {\n",
       "        text-align: right;\n",
       "    }\n",
       "</style>\n",
       "<table border=\"1\" class=\"dataframe\">\n",
       "  <thead>\n",
       "    <tr style=\"text-align: right;\">\n",
       "      <th></th>\n",
       "      <th>ID</th>\n",
       "      <th>Gene</th>\n",
       "      <th>Variation</th>\n",
       "      <th>Class</th>\n",
       "      <th>Text</th>\n",
       "      <th>Words_count</th>\n",
       "    </tr>\n",
       "  </thead>\n",
       "  <tbody>\n",
       "  </tbody>\n",
       "</table>\n",
       "</div>"
      ],
      "text/plain": [
       "Empty DataFrame\n",
       "Columns: [ID, Gene, Variation, Class, Text, Words_count]\n",
       "Index: []"
      ]
     },
     "execution_count": 23,
     "metadata": {
      "tags": []
     },
     "output_type": "execute_result"
    }
   ],
   "source": [
    "# Dropping variants without description \n",
    "df_train.dropna(subset=['Text'], inplace=True)\n",
    "df_train.reset_index(drop=True)\n",
    "df_train[df_train['Text'].isnull()]"
   ]
  },
  {
   "cell_type": "code",
   "execution_count": 0,
   "metadata": {
    "colab": {},
    "colab_type": "code",
    "id": "v_gmoII2DhWP"
   },
   "outputs": [],
   "source": [
    "# Vectorizing free text into features\n",
    "cv = TfidfVectorizer(\n",
    "                    min_df=5, \n",
    "                    max_features=16000,\n",
    "                    lowercase=True,\n",
    "                    use_idf=True, \n",
    "                    smooth_idf=True, \n",
    "                    sublinear_tf=True,\n",
    "                    strip_accents='unicode',\n",
    "                    tokenizer=nltk.word_tokenize,\n",
    "                    stop_words='english'\n",
    "                    )    "
   ]
  },
  {
   "cell_type": "code",
   "execution_count": 25,
   "metadata": {
    "colab": {
     "base_uri": "https://localhost:8080/",
     "height": 68
    },
    "colab_type": "code",
    "executionInfo": {
     "elapsed": 2792,
     "status": "ok",
     "timestamp": 1538077860884,
     "user": {
      "displayName": "Norbert Oksza Strzelecki",
      "photoUrl": "",
      "userId": "11757868523424655578"
     },
     "user_tz": -120
    },
    "id": "Rlr0VIorMzTJ",
    "outputId": "99146fa5-9b30-4daf-b503-e7ba0717ed8f"
   },
   "outputs": [
    {
     "name": "stdout",
     "output_type": "stream",
     "text": [
      "[nltk_data] Downloading package punkt to /root/nltk_data...\n",
      "[nltk_data]   Unzipping tokenizers/punkt.zip.\n"
     ]
    },
    {
     "data": {
      "text/plain": [
       "True"
      ]
     },
     "execution_count": 25,
     "metadata": {
      "tags": []
     },
     "output_type": "execute_result"
    }
   ],
   "source": [
    "# Needed by Google Colab\n",
    "nltk.download('punkt')"
   ]
  },
  {
   "cell_type": "code",
   "execution_count": 0,
   "metadata": {
    "colab": {},
    "colab_type": "code",
    "id": "LRrW8UbGDhWU"
   },
   "outputs": [],
   "source": [
    "tfidf = cv.fit_transform(df_train['Text'])"
   ]
  },
  {
   "cell_type": "code",
   "execution_count": 27,
   "metadata": {
    "colab": {
     "base_uri": "https://localhost:8080/",
     "height": 34
    },
    "colab_type": "code",
    "executionInfo": {
     "elapsed": 1918,
     "status": "ok",
     "timestamp": 1538078185786,
     "user": {
      "displayName": "Norbert Oksza Strzelecki",
      "photoUrl": "",
      "userId": "11757868523424655578"
     },
     "user_tz": -120
    },
    "id": "SRIprw6NDhWZ",
    "outputId": "b78aad28-3071-4b56-e7a2-9b6d7c31856d"
   },
   "outputs": [
    {
     "data": {
      "text/plain": [
       "16000"
      ]
     },
     "execution_count": 27,
     "metadata": {
      "tags": []
     },
     "output_type": "execute_result"
    }
   ],
   "source": [
    "# Corpus with 16k words as set in 'max_features' above\n",
    "len(cv.get_feature_names())"
   ]
  },
  {
   "cell_type": "code",
   "execution_count": 0,
   "metadata": {
    "colab": {},
    "colab_type": "code",
    "id": "KgAsG_yWDhWc"
   },
   "outputs": [],
   "source": [
    "svd = TruncatedSVD(n_components=20, n_iter=20, random_state=42)\n",
    "trunc_tfidf = svd.fit_transform(tfidf)"
   ]
  },
  {
   "cell_type": "code",
   "execution_count": 29,
   "metadata": {
    "colab": {
     "base_uri": "https://localhost:8080/",
     "height": 51
    },
    "colab_type": "code",
    "executionInfo": {
     "elapsed": 6681,
     "status": "ok",
     "timestamp": 1538078203713,
     "user": {
      "displayName": "Norbert Oksza Strzelecki",
      "photoUrl": "",
      "userId": "11757868523424655578"
     },
     "user_tz": -120
    },
    "id": "0AxcwEe9DhWi",
    "outputId": "c150a1f7-2bb2-4164-b661-85de98398abe"
   },
   "outputs": [
    {
     "name": "stdout",
     "output_type": "stream",
     "text": [
      "Log loss: 1.5197451935372077\n",
      "Accuracy: 0.45386007237635706\n"
     ]
    }
   ],
   "source": [
    "evaluate_features(trunc_tfidf, df_train['Class'].values,\n",
    "                 SVC(kernel='linear', probability=True))"
   ]
  },
  {
   "cell_type": "markdown",
   "metadata": {
    "colab_type": "text",
    "id": "1mtlbcZ1DhWr"
   },
   "source": [
    "Result not so promissing. Will try to improve it using LSTM approach."
   ]
  },
  {
   "cell_type": "markdown",
   "metadata": {
    "colab_type": "text",
    "id": "gkMIPcdSDhWt"
   },
   "source": [
    "### Top features by class"
   ]
  },
  {
   "cell_type": "code",
   "execution_count": 0,
   "metadata": {
    "colab": {},
    "colab_type": "code",
    "id": "n7-NrQJGDhWv"
   },
   "outputs": [],
   "source": [
    "# Some more helper functions\n",
    "def top_tfidf_feats(row, features, top_n=10):\n",
    "    topn_ids = np.argsort(row)[::-1][:top_n]\n",
    "    top_feats = [(features[i], row[i]) for i in topn_ids]\n",
    "    df = pd.DataFrame(top_feats)\n",
    "    df.columns = ['feature', 'tfidf']\n",
    "    return df\n",
    "\n",
    "def top_feats_in_doc(Xtr, features, row_id, top_n=10):\n",
    "    row = np.squeeze(Xtr[row_id].toarray())\n",
    "    return top_tfidf_feats(row, features, top_n)\n",
    "\n",
    "def top_mean_feats(Xtr, features, grp_ids=None, min_tfidf=0.1, top_n=10):\n",
    "    if grp_ids:\n",
    "        D = Xtr[grp_ids].toarray()\n",
    "    else:\n",
    "        D = Xtr.toarray()\n",
    "\n",
    "    D[D < min_tfidf] = 0\n",
    "    tfidf_means = np.mean(D, axis=0)\n",
    "    return top_tfidf_feats(tfidf_means, features, top_n)\n",
    "\n",
    "def top_feats_by_class(Xtr, y, features, min_tfidf=0.1, top_n=10):\n",
    "    dfs = []\n",
    "    labels = np.unique(y)\n",
    "    for label in labels:\n",
    "        ids = np.where(y==label)\n",
    "        feats_df = top_mean_feats(Xtr, features, ids, min_tfidf=min_tfidf, top_n=top_n)\n",
    "        feats_df.label = label\n",
    "        dfs.append(feats_df)\n",
    "    return dfs\n",
    "\n",
    "def plot_tfidf_classfeats_h(dfs):\n",
    "    fig = plt.figure(figsize=(12, 50))\n",
    "    x = np.arange(len(dfs[0]))\n",
    "    for i, df in enumerate(dfs):\n",
    "        #z = int(str(int(i/3)+1) + str((i%3)+1))\n",
    "        ax = fig.add_subplot(9, 1, i+1)\n",
    "        ax.spines[\"top\"].set_visible(False)\n",
    "        ax.spines[\"right\"].set_visible(False)\n",
    "        ax.set_frame_on(False)\n",
    "        ax.get_xaxis().tick_bottom()\n",
    "        ax.get_yaxis().tick_left()\n",
    "        ax.set_xlabel(\"Mean Tf-Idf Score\", labelpad=5, fontsize=12)\n",
    "        ax.set_ylabel(\"Gene\", labelpad=8, fontsize=14)\n",
    "        ax.set_title(\"Class \" + str(df.label), fontsize=14)\n",
    "        ax.ticklabel_format(axis='x', style='sci', scilimits=(-2,2))\n",
    "        ax.barh(x, df.tfidf, align='center', color='maroon', alpha=.7)\n",
    "        ax.set_yticks(x)\n",
    "        ax.set_ylim([-1, x[-1]+1])\n",
    "        yticks = ax.set_yticklabels(df.feature)\n",
    "        plt.subplots_adjust(bottom=0.09, right=0.97, left=0.15, top=0.95, wspace=0.52)\n",
    "    plt.show()"
   ]
  },
  {
   "cell_type": "code",
   "execution_count": 0,
   "metadata": {
    "colab": {},
    "colab_type": "code",
    "id": "TuSHu8I-DhW0"
   },
   "outputs": [],
   "source": [
    "y = df_train['Class']\n",
    "features = cv.get_feature_names()\n",
    "top_feat = top_feats_by_class(tfidf, y, features)"
   ]
  },
  {
   "cell_type": "code",
   "execution_count": 32,
   "metadata": {
    "colab": {
     "base_uri": "https://localhost:8080/",
     "height": 3178
    },
    "colab_type": "code",
    "executionInfo": {
     "elapsed": 4014,
     "status": "ok",
     "timestamp": 1538078212043,
     "user": {
      "displayName": "Norbert Oksza Strzelecki",
      "photoUrl": "",
      "userId": "11757868523424655578"
     },
     "user_tz": -120
    },
    "id": "8g8OKPgIDhW4",
    "outputId": "36e68335-7f23-4bdd-896c-3fd86162269b",
    "scrolled": false
   },
   "outputs": [
    {
     "data": {
      "image/png": "[encoded data removed]",
      "text/plain": [
       "<matplotlib.figure.Figure at 0x7fc4850e1080>"
      ]
     },
     "metadata": {
      "tags": []
     },
     "output_type": "display_data"
    }
   ],
   "source": [
    "# Top features by class\n",
    "plot_tfidf_classfeats_h(top_feat)"
   ]
  },
  {
   "cell_type": "markdown",
   "metadata": {
    "colab_type": "text",
    "id": "pJu81U6PDhXN"
   },
   "source": [
    "## Keras\n",
    "\n",
    "**NOTICE: Due to long time to compute results run below code on GPU** "
   ]
  },
  {
   "cell_type": "code",
   "execution_count": 0,
   "metadata": {
    "colab": {},
    "colab_type": "code",
    "id": "_38Tm-qTDhXP"
   },
   "outputs": [],
   "source": [
    "# Tokenize\n",
    "tokenizer = Tokenizer(num_words=2200)\n",
    "tokenizer.fit_on_texts(df_train['Text'].values)"
   ]
  },
  {
   "cell_type": "code",
   "execution_count": 0,
   "metadata": {
    "colab": {},
    "colab_type": "code",
    "id": "9u--sd-XDhXZ"
   },
   "outputs": [],
   "source": [
    "# Padding\n",
    "X = tokenizer.texts_to_sequences(df_train['Text'].values)\n",
    "X = pad_sequences(X, maxlen=2200)"
   ]
  },
  {
   "cell_type": "code",
   "execution_count": 36,
   "metadata": {
    "colab": {
     "base_uri": "https://localhost:8080/",
     "height": 255
    },
    "colab_type": "code",
    "executionInfo": {
     "elapsed": 2657,
     "status": "ok",
     "timestamp": 1538078955931,
     "user": {
      "displayName": "Norbert Oksza Strzelecki",
      "photoUrl": "",
      "userId": "11757868523424655578"
     },
     "user_tz": -120
    },
    "id": "aCyeZlUaDhXj",
    "outputId": "dc81ef12-8b2a-4fb7-e100-fab9785c741a"
   },
   "outputs": [
    {
     "name": "stdout",
     "output_type": "stream",
     "text": [
      "_________________________________________________________________\n",
      "Layer (type)                 Output Shape              Param #   \n",
      "=================================================================\n",
      "embedding_1 (Embedding)      (None, 2200, 128)         281600    \n",
      "_________________________________________________________________\n",
      "lstm_1 (LSTM)                (None, 196)               254800    \n",
      "_________________________________________________________________\n",
      "dense_1 (Dense)              (None, 9)                 1773      \n",
      "=================================================================\n",
      "Total params: 538,173\n",
      "Trainable params: 538,173\n",
      "Non-trainable params: 0\n",
      "_________________________________________________________________\n",
      "None\n"
     ]
    }
   ],
   "source": [
    "# LSTM\n",
    "num_words = 2200\n",
    "embed_dim = 128\n",
    "lstm_output = 196\n",
    "\n",
    "# Model saving\n",
    "mod_checkpoint = ModelCheckpoint('per_med_model', \n",
    "                                 monitor='val_loss',  \n",
    "                                 save_best_only=True, \n",
    "                                 mode='auto',\n",
    "                                 verbose=1)\n",
    "\n",
    "model = Sequential()\n",
    "model.add(Embedding(num_words, embed_dim, input_length=X.shape[1]))\n",
    "model.add(LSTM(lstm_output, dropout=0.2, recurrent_dropout=0.2))\n",
    "model.add(Dense(9, activation='softmax'))\n",
    "model.compile(loss='categorical_crossentropy', metrics=['categorical_crossentropy'], optimizer='adam')\n",
    "print(model.summary())"
   ]
  },
  {
   "cell_type": "code",
   "execution_count": 37,
   "metadata": {
    "colab": {
     "base_uri": "https://localhost:8080/",
     "height": 51
    },
    "colab_type": "code",
    "executionInfo": {
     "elapsed": 716,
     "status": "ok",
     "timestamp": 1538078956889,
     "user": {
      "displayName": "Norbert Oksza Strzelecki",
      "photoUrl": "",
      "userId": "11757868523424655578"
     },
     "user_tz": -120
    },
    "id": "kwGDacYLDhXn",
    "outputId": "85f13c0c-d232-49df-a3c5-f2c4db1ad50b"
   },
   "outputs": [
    {
     "name": "stdout",
     "output_type": "stream",
     "text": [
      "(2652, 2200) (2652, 9)\n",
      "(664, 2200) (664, 9)\n"
     ]
    }
   ],
   "source": [
    "y = pd.get_dummies(df_train['Class']).values\n",
    "\n",
    "X_train, X_test, y_train, y_test = train_test_split(X, y, test_size=0.2, random_state=42, stratify=y)\n",
    "\n",
    "print(X_train.shape, y_train.shape)\n",
    "print(X_test.shape, y_test.shape)"
   ]
  },
  {
   "cell_type": "code",
   "execution_count": 38,
   "metadata": {
    "colab": {
     "base_uri": "https://localhost:8080/",
     "height": 595
    },
    "colab_type": "code",
    "executionInfo": {
     "elapsed": 3664564,
     "status": "ok",
     "timestamp": 1538082621789,
     "user": {
      "displayName": "Norbert Oksza Strzelecki",
      "photoUrl": "",
      "userId": "11757868523424655578"
     },
     "user_tz": -120
    },
    "id": "7F36GBQyDhXr",
    "outputId": "06353b30-7406-4891-b63d-b997ae71ce75"
   },
   "outputs": [
    {
     "name": "stdout",
     "output_type": "stream",
     "text": [
      "Train on 2121 samples, validate on 531 samples\n",
      "Epoch 1/8\n",
      "2121/2121 [==============================] - 450s 212ms/step - loss: 1.8757 - categorical_crossentropy: 1.8757 - val_loss: 1.8038 - val_categorical_crossentropy: 1.8038\n",
      "\n",
      "Epoch 00001: val_loss improved from inf to 1.80381, saving model to per_med_model\n",
      "Epoch 2/8\n",
      "2121/2121 [==============================] - 455s 215ms/step - loss: 1.5313 - categorical_crossentropy: 1.5313 - val_loss: 1.4895 - val_categorical_crossentropy: 1.4895\n",
      "\n",
      "Epoch 00002: val_loss improved from 1.80381 to 1.48948, saving model to per_med_model\n",
      "Epoch 3/8\n",
      "2121/2121 [==============================] - 459s 216ms/step - loss: 1.2043 - categorical_crossentropy: 1.2043 - val_loss: 1.3747 - val_categorical_crossentropy: 1.3747\n",
      "\n",
      "Epoch 00003: val_loss improved from 1.48948 to 1.37472, saving model to per_med_model\n",
      "Epoch 4/8\n",
      "2121/2121 [==============================] - 459s 216ms/step - loss: 1.0180 - categorical_crossentropy: 1.0180 - val_loss: 1.3688 - val_categorical_crossentropy: 1.3688\n",
      "\n",
      "Epoch 00004: val_loss improved from 1.37472 to 1.36877, saving model to per_med_model\n",
      "Epoch 5/8\n",
      "2121/2121 [==============================] - 460s 217ms/step - loss: 0.8869 - categorical_crossentropy: 0.8869 - val_loss: 1.3642 - val_categorical_crossentropy: 1.3642\n",
      "\n",
      "Epoch 00005: val_loss improved from 1.36877 to 1.36419, saving model to per_med_model\n",
      "Epoch 6/8\n",
      "2121/2121 [==============================] - 459s 217ms/step - loss: 0.7933 - categorical_crossentropy: 0.7933 - val_loss: 1.3922 - val_categorical_crossentropy: 1.3922\n",
      "\n",
      "Epoch 00006: val_loss did not improve from 1.36419\n",
      "Epoch 7/8\n",
      "2121/2121 [==============================] - 460s 217ms/step - loss: 0.7035 - categorical_crossentropy: 0.7035 - val_loss: 1.4593 - val_categorical_crossentropy: 1.4593\n",
      "\n",
      "Epoch 00007: val_loss did not improve from 1.36419\n",
      "Epoch 8/8\n",
      "2121/2121 [==============================] - 459s 216ms/step - loss: 0.6621 - categorical_crossentropy: 0.6621 - val_loss: 1.4744 - val_categorical_crossentropy: 1.4744\n",
      "\n",
      "Epoch 00008: val_loss did not improve from 1.36419\n"
     ]
    },
    {
     "data": {
      "text/plain": [
       "<keras.callbacks.History at 0x7fc48236bc18>"
      ]
     },
     "execution_count": 38,
     "metadata": {
      "tags": []
     },
     "output_type": "execute_result"
    }
   ],
   "source": [
    "model.fit(X_train, y_train, epochs=8, batch_size=32, validation_split=0.2, callbacks=[mod_checkpoint])"
   ]
  },
  {
   "cell_type": "code",
   "execution_count": 0,
   "metadata": {
    "colab": {},
    "colab_type": "code",
    "id": "NFebypu6DhXz"
   },
   "outputs": [],
   "source": [
    "model = load_model('per_med_model')"
   ]
  },
  {
   "cell_type": "code",
   "execution_count": 0,
   "metadata": {
    "colab": {},
    "colab_type": "code",
    "id": "LoFBJB96DhX6"
   },
   "outputs": [],
   "source": [
    "probas = model.predict(X_test)"
   ]
  },
  {
   "cell_type": "code",
   "execution_count": 41,
   "metadata": {
    "colab": {
     "base_uri": "https://localhost:8080/",
     "height": 51
    },
    "colab_type": "code",
    "executionInfo": {
     "elapsed": 1099,
     "status": "ok",
     "timestamp": 1538082660156,
     "user": {
      "displayName": "Norbert Oksza Strzelecki",
      "photoUrl": "",
      "userId": "11757868523424655578"
     },
     "user_tz": -120
    },
    "id": "Yumvcr12DhYC",
    "outputId": "7440035d-75da-46a3-e3b0-cf68dcb0e62b"
   },
   "outputs": [
    {
     "name": "stdout",
     "output_type": "stream",
     "text": [
      "log loss: 1.3557415083780078\n",
      "accuracy: 0.5120481927710844\n"
     ]
    }
   ],
   "source": [
    "pred_indices = np.argmax(probas, axis=1)\n",
    "classes = np.array(range(1, 10))\n",
    "preds = classes[pred_indices]\n",
    "print('log loss: {}'.format(log_loss(classes[np.argmax(y_test, axis=1)], probas)))\n",
    "print('accuracy: {}'.format(accuracy_score(classes[np.argmax(y_test, axis=1)], preds)))\n",
    "# plot_confusion_matrix(classes[np.argmax(y_test, axis=1)], preds)"
   ]
  },
  {
   "cell_type": "markdown",
   "metadata": {
    "colab": {},
    "colab_type": "code",
    "id": "eVyHLR6SDhYH"
   },
   "source": [
    "Result slighlty improved compared to TF-IDF approach."
   ]
  },
  {
   "cell_type": "code",
   "execution_count": 0,
   "metadata": {
    "colab": {},
    "colab_type": "code",
    "id": "U0KB2fkWDhYO"
   },
   "outputs": [],
   "source": []
  }
 ],
 "metadata": {
  "accelerator": "GPU",
  "colab": {
   "collapsed_sections": [],
   "name": "personalized_medicine_cancer_variants_classification.ipynb",
   "provenance": [],
   "version": "0.3.2"
  },
  "hide_input": false,
  "kernelspec": {
   "display_name": "Python 3",
   "language": "python",
   "name": "python3"
  },
  "language_info": {
   "codemirror_mode": {
    "name": "ipython",
    "version": 3
   },
   "file_extension": ".py",
   "mimetype": "text/x-python",
   "name": "python",
   "nbconvert_exporter": "python",
   "pygments_lexer": "ipython3",
   "version": "3.6.6"
  },
  "toc": {
   "base_numbering": 1,
   "nav_menu": {},
   "number_sections": true,
   "sideBar": true,
   "skip_h1_title": false,
   "title_cell": "Table of Contents",
   "title_sidebar": "Contents",
   "toc_cell": false,
   "toc_position": {},
   "toc_section_display": true,
   "toc_window_display": false
  }
 },
 "nbformat": 4,
 "nbformat_minor": 1
}
